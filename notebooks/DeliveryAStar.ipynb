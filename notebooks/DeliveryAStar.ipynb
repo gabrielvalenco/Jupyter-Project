{
 "cells": [
  {
   "cell_type": "markdown",
   "metadata": {},
   "source": [
    "# Delivery Route Optimization with A*\n",
    "This notebook demonstrates an adapted A* algorithm to find a lowest-cost tour starting and ending at a depot while visiting all delivery points. It uses an MST-based admissible heuristic."
   ]
  },
  {
   "cell_type": "code",
   "execution_count": 1,
   "metadata": {},
   "outputs": [
    {
     "ename": "ModuleNotFoundError",
     "evalue": "No module named 'pandas'",
     "output_type": "error",
     "traceback": [
      "\u001b[31m---------------------------------------------------------------------------\u001b[39m",
      "\u001b[31mModuleNotFoundError\u001b[39m                       Traceback (most recent call last)",
      "\u001b[36mCell\u001b[39m\u001b[36m \u001b[39m\u001b[32mIn[1]\u001b[39m\u001b[32m, line 2\u001b[39m\n\u001b[32m      1\u001b[39m \u001b[38;5;28;01mimport\u001b[39;00m\u001b[38;5;250m \u001b[39m\u001b[34;01mos\u001b[39;00m\n\u001b[32m----> \u001b[39m\u001b[32m2\u001b[39m \u001b[38;5;28;01mimport\u001b[39;00m\u001b[38;5;250m \u001b[39m\u001b[34;01mpandas\u001b[39;00m\u001b[38;5;250m \u001b[39m\u001b[38;5;28;01mas\u001b[39;00m\u001b[38;5;250m \u001b[39m\u001b[34;01mpd\u001b[39;00m\n\u001b[32m      3\u001b[39m \u001b[38;5;28;01mimport\u001b[39;00m\u001b[38;5;250m \u001b[39m\u001b[34;01mnumpy\u001b[39;00m\u001b[38;5;250m \u001b[39m\u001b[38;5;28;01mas\u001b[39;00m\u001b[38;5;250m \u001b[39m\u001b[34;01mnp\u001b[39;00m\n\u001b[32m      4\u001b[39m \u001b[38;5;28;01mimport\u001b[39;00m\u001b[38;5;250m \u001b[39m\u001b[34;01mnetworkx\u001b[39;00m\u001b[38;5;250m \u001b[39m\u001b[38;5;28;01mas\u001b[39;00m\u001b[38;5;250m \u001b[39m\u001b[34;01mnx\u001b[39;00m\n",
      "\u001b[31mModuleNotFoundError\u001b[39m: No module named 'pandas'"
     ]
    }
   ],
   "source": [
    "import os\n",
    "import pandas as pd\n",
    "import numpy as np\n",
    "import networkx as nx\n",
    "import matplotlib.pyplot as plt\n",
    "from src.route_solver import build_distance_matrix, astar_tsp\n",
    "\n",
    "%matplotlib inline"
   ]
  },
  {
   "cell_type": "markdown",
   "metadata": {},
   "source": [
    "## Load data and build distance matrix"
   ]
  },
  {
   "cell_type": "code",
   "execution_count": null,
   "metadata": {},
   "outputs": [],
   "source": [
    "data_path = os.path.join('..','data','sample_points.csv') if not os.path.exists(os.path.join('data','sample_points.csv')) else os.path.join('data','sample_points.csv')\n",
    "df = pd.read_csv(data_path)\n",
    "labels = df['id'].tolist()\n",
    "points = df[['x','y']].to_numpy()\n",
    "depot_idx = 0  # first row is the depot\n",
    "delivery_indices = list(range(1, len(points)))\n",
    "dist = build_distance_matrix(points, metric='euclidean')\n",
    "dist[:5,:5]  # preview"
   ]
  },
  {
   "cell_type": "markdown",
   "metadata": {},
   "source": [
    "## Run A* with MST heuristic"
   ]
  },
  {
   "cell_type": "code",
   "execution_count": null,
   "metadata": {},
   "outputs": [],
   "source": [
    "path_indices, total_cost = astar_tsp(dist, depot_idx, delivery_indices, heuristic='mst')\n",
    "route_labels = [labels[i] for i in path_indices]\n",
    "print('Route:', route_labels)\n",
    "print('Total cost:', total_cost)"
   ]
  },
  {
   "cell_type": "markdown",
   "metadata": {},
   "source": [
    "## Visualize"
   ]
  },
  {
   "cell_type": "code",
   "execution_count": null,
   "metadata": {},
   "outputs": [],
   "source": [
    "G = nx.Graph()\n",
    "for i, (x,y) in enumerate(points):\n",
    "    G.add_node(i, pos=(x,y))\n",
    "for i in range(len(points)):\n",
    "    for j in range(i+1, len(points)):\n",
    "        G.add_edge(i, j, weight=float(dist[i, j]))\n",
    "pos = {i:(points[i][0], points[i][1]) for i in range(len(points))}\n",
    "plt.figure(figsize=(6,6))\n",
    "nx.draw(G, pos, with_labels=False, node_color='lightblue', node_size=600)\n",
    "# label nodes\n",
    "for i,(x,y) in enumerate(points):\n",
    "    plt.text(x, y, labels[i], fontsize=12, ha='center', va='center')\n",
    "# draw tour edges\n",
    "tour_edges = [(path_indices[k], path_indices[k+1]) for k in range(len(path_indices)-1)]\n",
    "nx.draw_networkx_edges(G, pos, edgelist=tour_edges, edge_color='red', width=2)\n",
    "plt.title('A* MST Tour')\n",
    "plt.show()"
   ]
  }
 ],
 "metadata": {
  "kernelspec": {
   "display_name": ".venv",
   "language": "python",
   "name": "python3"
  },
  "language_info": {
   "codemirror_mode": {
    "name": "ipython",
    "version": 3
   },
   "file_extension": ".py",
   "mimetype": "text/x-python",
   "name": "python",
   "nbconvert_exporter": "python",
   "pygments_lexer": "ipython3",
   "version": "3.13.3"
  }
 },
 "nbformat": 4,
 "nbformat_minor": 5
}
