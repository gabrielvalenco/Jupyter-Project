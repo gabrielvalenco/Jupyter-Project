{
 "cells": [
  {
   "cell_type": "markdown",
   "id": "97d62ed1",
   "metadata": {},
   "source": [
    "# Delivery Route Optimization with A*\n",
    "This notebook demonstrates an adapted A* algorithm to find a lowest-cost tour starting and ending at a depot while visiting all delivery points. It uses an MST-based admissible heuristic."
   ]
  },
  {
   "cell_type": "code",
   "execution_count": 9,
   "id": "edf5ce73",
   "metadata": {},
   "outputs": [
    {
     "name": "stdout",
     "output_type": "stream",
     "text": [
      "Python: c:\\laragon\\www\\Faculdade\\Jupyter-Project\\.venv\\Scripts\\python.exe\n"
     ]
    }
   ],
   "source": [
    "import sys\n",
    "from pathlib import Path\n",
    "ROOT = Path.cwd().resolve().parent  # notebooks/ -> raiz do projeto\n",
    "if str(ROOT) not in sys.path:\n",
    "    sys.path.append(str(ROOT))\n",
    "print('Python:', sys.executable)"
   ]
  },
  {
   "cell_type": "code",
   "execution_count": 10,
   "id": "4ef73152",
   "metadata": {},
   "outputs": [],
   "source": [
    "import os\n",
    "import pandas as pd\n",
    "import numpy as np\n",
    "import networkx as nx\n",
    "import matplotlib.pyplot as plt\n",
    "from src.route_solver import build_distance_matrix, astar_tsp\n",
    "\n",
    "%matplotlib inline"
   ]
  },
  {
   "cell_type": "markdown",
   "id": "719511ba",
   "metadata": {},
   "source": [
    "## Load data and build distance matrix"
   ]
  },
  {
   "cell_type": "code",
   "execution_count": 2,
   "id": "e7158c2b",
   "metadata": {},
   "outputs": [
    {
     "ename": "NameError",
     "evalue": "name 'os' is not defined",
     "output_type": "error",
     "traceback": [
      "\u001b[31m---------------------------------------------------------------------------\u001b[39m",
      "\u001b[31mNameError\u001b[39m                                 Traceback (most recent call last)",
      "\u001b[36mCell\u001b[39m\u001b[36m \u001b[39m\u001b[32mIn[2]\u001b[39m\u001b[32m, line 1\u001b[39m\n\u001b[32m----> \u001b[39m\u001b[32m1\u001b[39m data_path = os.path.join(\u001b[33m'\u001b[39m\u001b[33m..\u001b[39m\u001b[33m'\u001b[39m,\u001b[33m'\u001b[39m\u001b[33mdata\u001b[39m\u001b[33m'\u001b[39m,\u001b[33m'\u001b[39m\u001b[33msample_points.csv\u001b[39m\u001b[33m'\u001b[39m) \u001b[38;5;28;01mif\u001b[39;00m \u001b[38;5;129;01mnot\u001b[39;00m \u001b[43mos\u001b[49m.path.exists(os.path.join(\u001b[33m'\u001b[39m\u001b[33mdata\u001b[39m\u001b[33m'\u001b[39m,\u001b[33m'\u001b[39m\u001b[33msample_points.csv\u001b[39m\u001b[33m'\u001b[39m)) \u001b[38;5;28;01melse\u001b[39;00m os.path.join(\u001b[33m'\u001b[39m\u001b[33mdata\u001b[39m\u001b[33m'\u001b[39m,\u001b[33m'\u001b[39m\u001b[33msample_points.csv\u001b[39m\u001b[33m'\u001b[39m)\n\u001b[32m      2\u001b[39m df = pd.read_csv(data_path)\n\u001b[32m      3\u001b[39m labels = df[\u001b[33m'\u001b[39m\u001b[33mid\u001b[39m\u001b[33m'\u001b[39m].tolist()\n",
      "\u001b[31mNameError\u001b[39m: name 'os' is not defined"
     ]
    }
   ],
   "source": [
    "data_path = os.path.join('..','data','sample_points.csv') if not os.path.exists(os.path.join('data','sample_points.csv')) else os.path.join('data','sample_points.csv')\n",
    "df = pd.read_csv(data_path)\n",
    "labels = df['id'].tolist()\n",
    "points = df[['x','y']].to_numpy()\n",
    "depot_idx = 0  # first row is the depot\n",
    "delivery_indices = list(range(1, len(points)))\n",
    "dist = build_distance_matrix(points, metric='euclidean')\n",
    "dist[:5,:5]  # preview"
   ]
  },
  {
   "cell_type": "markdown",
   "id": "315e938b",
   "metadata": {},
   "source": [
    "## Run A* with MST heuristic"
   ]
  },
  {
   "cell_type": "code",
   "execution_count": 12,
   "id": "89241aca",
   "metadata": {},
   "outputs": [
    {
     "name": "stdout",
     "output_type": "stream",
     "text": [
      "Route: ['D', 'B', 'E', 'C', 'A', 'D']\n",
      "Total cost: 15.5121560482004\n"
     ]
    }
   ],
   "source": [
    "path_indices, total_cost = astar_tsp(dist, depot_idx, delivery_indices, heuristic='mst')\n",
    "route_labels = [labels[i] for i in path_indices]\n",
    "print('Route:', route_labels)\n",
    "print('Total cost:', total_cost)"
   ]
  },
  {
   "cell_type": "code",
   "execution_count": null,
   "id": "9f6a3251",
   "metadata": {},
   "outputs": [],
   "source": [
    "import itertools\n",
    "\n",
    "def tour_cost(order):\n",
    "    c = 0.0\n",
    "    prev = depot_idx\n",
    "    for j in order:\n",
    "        c += float(dist[prev, j])\n",
    "        prev = j\n",
    "    c += float(dist[prev, depot_idx])\n",
    "    return c\n",
    "\n",
    "# Compute best cost and capture all optimal orders (to handle ties)\n",
    "best_cost = float('inf')\n",
    "optimal_orders = []\n",
    "for order in itertools.permutations(delivery_indices):\n",
    "    c = tour_cost(order)\n",
    "    if c < best_cost - 1e-12:\n",
    "        best_cost = c\n",
    "        optimal_orders = [order]\n",
    "    elif abs(c - best_cost) <= 1e-9:\n",
    "        optimal_orders.append(order)\n",
    "\n",
    "def labels_from_order(order):\n",
    "    return [labels[depot_idx]] + [labels[i] for i in order] + [labels[depot_idx]]\n",
    "\n",
    "def cycles_equivalent(t1, t2):\n",
    "    # both include depot at start and end\n",
    "    a = t1[1:-1]\n",
    "    b = t2[1:-1]\n",
    "    if len(a) != len(b):\n",
    "        return False\n",
    "    n = len(a)\n",
    "    for k in range(n):\n",
    "        rot = a[k:] + a[:k]\n",
    "        if rot == b or rot[::-1] == b:\n",
    "            return True\n",
    "    return False\n",
    "\n",
    "astar_labels = [labels[i] for i in path_indices]\n",
    "found_equiv = any(cycles_equivalent(astar_labels, labels_from_order(o)) for o in optimal_orders)\n",
    "\n",
    "print(\"Optimal cost match:\", abs(total_cost - best_cost) <= 1e-9)\n",
    "print(\"Route equivalent to an optimal:\", found_equiv)\n",
    "print(\"Best cost:\", best_cost)\n",
    "print(\"One optimal tour:\", labels_from_order(optimal_orders[0]))"
   ]
  },
  {
   "cell_type": "markdown",
   "id": "02919c1e",
   "metadata": {},
   "source": [
    "## Visualize"
   ]
  },
  {
   "cell_type": "code",
   "execution_count": 13,
   "id": "3420c76a",
   "metadata": {},
   "outputs": [
    {
     "data": {
      "image/png": "[encoded data removed]",
      "text/plain": [
       "<Figure size 600x600 with 1 Axes>"
      ]
     },
     "metadata": {},
     "output_type": "display_data"
    }
   ],
   "source": [
    "G = nx.Graph()\n",
    "for i, (x,y) in enumerate(points):\n",
    "    G.add_node(i, pos=(x,y))\n",
    "for i in range(len(points)):\n",
    "    for j in range(i+1, len(points)):\n",
    "        G.add_edge(i, j, weight=float(dist[i, j]))\n",
    "pos = {i:(points[i][0], points[i][1]) for i in range(len(points))}\n",
    "plt.figure(figsize=(6,6))\n",
    "nx.draw(G, pos, with_labels=False, node_color='lightblue', node_size=600)\n",
    "nx.draw_networkx_nodes(G, pos, nodelist=[depot_idx], node_color='gold', node_size=800)\n",
    "# label nodes\n",
    "for i,(x,y) in enumerate(points):\n",
    "    plt.text(x, y, labels[i], fontsize=12, ha='center', va='center')\n",
    "# draw tour edges\n",
    "tour_edges = [(path_indices[k], path_indices[k+1]) for k in range(len(path_indices)-1)]\n",
    "nx.draw_networkx_edges(G, pos, edgelist=tour_edges, edge_color='red', width=2)\n",
    "plt.title(f'A* MST Tour (cost={total_cost:.3f})')\n",
    "plt.show()"
   ]
  },
  {
   "cell_type": "code",
   "execution_count": 14,
   "id": "d9489f12",
   "metadata": {},
   "outputs": [
    {
     "name": "stdout",
     "output_type": "stream",
     "text": [
      "A* route: ['D', 'B', 'E', 'C', 'A', 'D'] cost: 15.5121560482004\n",
      "Brute-force best: ['D', 'A', 'C', 'E', 'B', 'D'] cost: 15.5121560482004\n",
      "Match: False\n"
     ]
    }
   ],
   "source": [
    "import itertools\n",
    "\n",
    "def tour_cost(order):\n",
    "    c = 0.0\n",
    "    prev = depot_idx\n",
    "    for j in order:\n",
    "        c += float(dist[prev, j])\n",
    "        prev = j\n",
    "    c += float(dist[prev, depot_idx])\n",
    "    return c\n",
    "\n",
    "best_order, best_cost = min(\n",
    "    ((order, tour_cost(order)) for order in itertools.permutations(delivery_indices)),\n",
    "    key=lambda t: t[1]\n",
    ")\n",
    "\n",
    "astar_labels = [labels[i] for i in path_indices]\n",
    "brute_labels = [labels[depot_idx]] + [labels[i] for i in best_order] + [labels[depot_idx]]\n",
    "\n",
    "print(\"A* route:\", astar_labels, \"cost:\", total_cost)\n",
    "print(\"Brute-force best:\", brute_labels, \"cost:\", best_cost)\n",
    "print(\"Match:\", abs(total_cost - best_cost) < 1e-9 and astar_labels == brute_labels)"
   ]
  }
 ],
 "metadata": {
  "kernelspec": {
   "display_name": "Python 3 (ipykernel)",
   "language": "python",
   "name": "python3"
  },
  "language_info": {
   "codemirror_mode": {
    "name": "ipython",
    "version": 3
   },
   "file_extension": ".py",
   "mimetype": "text/x-python",
   "name": "python",
   "nbconvert_exporter": "python",
   "pygments_lexer": "ipython3",
   "version": "3.13.3"
  }
 },
 "nbformat": 4,
 "nbformat_minor": 5
}
